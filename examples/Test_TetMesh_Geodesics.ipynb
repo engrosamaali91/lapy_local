{
 "cells": [
  {
   "cell_type": "code",
   "execution_count": null,
   "metadata": {},
   "outputs": [],
   "source": [
    "import numpy as np\n",
    "\n",
    "from lapy import TetMesh, TetIO, FuncIO\n",
    "\n",
    "from lapy.Plot import plot_tet_mesh\n",
    "\n",
    "import plotly\n",
    "plotly.offline.init_notebook_mode(connected=True)\n"
   ]
  },
  {
   "cell_type": "code",
   "execution_count": null,
   "metadata": {},
   "outputs": [],
   "source": [
    "T = TetIO.import_vtk('../data/cubeTetra.vtk')\n",
    "#T.is_oriented()\n",
    "T.orient_()\n"
   ]
  },
  {
   "cell_type": "code",
   "execution_count": null,
   "metadata": {},
   "outputs": [],
   "source": [
    "from lapy import Solver\n",
    "fem = Solver(T,lump=True)\n",
    "\n",
    "evals, evec = fem.eigs(10)\n"
   ]
  },
  {
   "cell_type": "code",
   "execution_count": null,
   "metadata": {},
   "outputs": [],
   "source": [
    "# also get A,B (lumped), and inverse of B (easy as it is diagonal)\n",
    "A, B = fem.stiffness, fem.mass\n",
    "Bi = B.copy()\n",
    "Bi.data **= -1"
   ]
  },
  {
   "cell_type": "code",
   "execution_count": null,
   "metadata": {},
   "outputs": [],
   "source": [
    "evnum=1\n"
   ]
  },
  {
   "cell_type": "code",
   "execution_count": null,
   "metadata": {
    "scrolled": true
   },
   "outputs": [],
   "source": [
    "cutting = ['x<0.5']\n",
    "# also here we comment all plots to reduce file size\n",
    "# uncomment and take a look\n",
    "#plot_tet_mesh(T,vfunc=evals[evnum]*evec[:,evnum],plot_edges=None,plot_levels=False,cutting=cutting,edge_color='rgb(50,50,50)',html_output=False,flatshading=True)\n"
   ]
  },
  {
   "cell_type": "code",
   "execution_count": null,
   "metadata": {},
   "outputs": [],
   "source": [
    "from lapy.DiffGeo import compute_gradient\n",
    "from lapy.DiffGeo import compute_divergence\n",
    "grad = compute_gradient(T,evec[:,evnum])\n",
    "divx = -compute_divergence(T,grad)\n",
    "vfunc = Bi*divx\n"
   ]
  },
  {
   "cell_type": "code",
   "execution_count": null,
   "metadata": {},
   "outputs": [],
   "source": [
    "cutting = ['x<0.5']\n",
    "#plot_tet_mesh(T,vfunc=vfunc,plot_edges=None,plot_levels=False,cutting=cutting,edge_color='rgb(50,50,50)',html_output=False,flatshading=True)\n"
   ]
  },
  {
   "cell_type": "code",
   "execution_count": null,
   "metadata": {},
   "outputs": [],
   "source": [
    "np.max(np.abs(vfunc-(evals[evnum]*evec[:,evnum])))\n",
    "dd = np.abs(vfunc-(evals[evnum]*evec[:,evnum]))\n",
    "max(dd)\n"
   ]
  },
  {
   "cell_type": "code",
   "execution_count": null,
   "metadata": {},
   "outputs": [],
   "source": [
    "from lapy import Heat\n",
    "\n",
    "tria = T.boundary_tria()\n",
    "bvert = np.unique(tria.t)\n",
    "\n",
    "u = Heat.diffusion(T,bvert,m=1)\n",
    "cutting = ['x<0.5']\n",
    "#plot_tet_mesh(T,vfunc=u,plot_edges=None,plot_levels=True,cutting=cutting,edge_color='rgb(50,50,50)',html_output=False,flatshading=True)\n"
   ]
  },
  {
   "cell_type": "code",
   "execution_count": null,
   "metadata": {},
   "outputs": [],
   "source": [
    "# compute gradient of heat diffusion, normalize it, and compute the divergence of normalized gradient\n",
    "tfunc = compute_gradient(T, u)\n",
    "\n",
    "# flip and normalize it\n",
    "X = -tfunc / np.sqrt((tfunc ** 2).sum(1))[:, np.newaxis]\n",
    "X = np.nan_to_num(X)\n",
    "\n",
    "# compute divergence\n",
    "divx = compute_divergence(T, X)\n"
   ]
  },
  {
   "cell_type": "code",
   "execution_count": null,
   "metadata": {},
   "outputs": [],
   "source": [
    "# compute distance\n",
    "from scipy.sparse.linalg import splu\n",
    "useCholmod = True\n",
    "try:\n",
    "    from sksparse.cholmod import cholesky\n",
    "except ImportError:\n",
    "    useCholmod = False\n",
    "\n",
    "A, B = fem.stiffness, fem.mass # computed above when creating Solver\n",
    "\n",
    "H=A\n",
    "b0=-divx\n",
    "        \n",
    "# solve H x = b0\n",
    "print(\"Matrix Format now: \"+H.getformat())\n",
    "if useCholmod:\n",
    "    print(\"Solver: cholesky decomp - performance optimal ...\")\n",
    "    chol = cholesky(H)\n",
    "    x = chol(b0)\n",
    "else:\n",
    "    print(\"Solver: spsolve (LU decomp) - performance not optimal ...\")\n",
    "    lu = splu(H)\n",
    "    x = lu.solve(b0)\n",
    "\n",
    "x = x - np.min(x)\n"
   ]
  },
  {
   "cell_type": "code",
   "execution_count": null,
   "metadata": {},
   "outputs": [],
   "source": [
    "cutting = ['x<0.5']\n",
    "#plot_tet_mesh(T,vfunc=x,plot_edges=None,plot_levels=True,cutting=cutting,edge_color='rgb(50,50,50)',html_output=False,flatshading=True)\n",
    "max(x), 0.5*np.sqrt(3.0)\n"
   ]
  },
  {
   "cell_type": "code",
   "execution_count": null,
   "metadata": {},
   "outputs": [],
   "source": [
    "#debug gradient\n",
    "v1func =  T.v[:,0]* T.v[:,0] + T.v[:,1]* T.v[:,1] + T.v[:,2]* T.v[:,2]# x coord\n",
    "#v1func = (v4[:,1]-0.5) * (v4[:,1]-0.5) + (v4[:,0]-0.5)* (v4[:,0]-0.5)  # xcoord\n",
    "\n",
    "grad = compute_gradient(T,v1func)\n",
    "glength = np.sqrt(np.sum(grad * grad, axis=1))\n",
    "fcols=glength\n",
    "fcols=grad[:,2]\n",
    "cutting = ['x<0.5']\n",
    "cutting = None\n",
    "#plot_tet_mesh(T,vfunc=None,tfunc=fcols,plot_edges=None,plot_levels=False,cutting=cutting,edge_color='rgb(50,50,50)',html_output=False)\n"
   ]
  },
  {
   "cell_type": "code",
   "execution_count": null,
   "metadata": {},
   "outputs": [],
   "source": [
    "divx = compute_divergence(T, grad)\n",
    "divx2 = Bi * divx\n",
    "cutting = ['z<0.5']\n",
    "#plot_tet_mesh(T,vfunc=divx2,plot_edges=True,plot_levels=False,cutting=cutting,edge_color='rgb(50,50,50)',html_output=False,flatshading=True)\n",
    "\n"
   ]
  },
  {
   "cell_type": "code",
   "execution_count": null,
   "metadata": {},
   "outputs": [],
   "source": [
    "divx2[5000:5010]"
   ]
  },
  {
   "cell_type": "code",
   "execution_count": null,
   "metadata": {},
   "outputs": [],
   "source": [
    "T.avg_edge_length()\n"
   ]
  },
  {
   "cell_type": "code",
   "execution_count": null,
   "metadata": {},
   "outputs": [],
   "source": [
    "from lapy.DiffGeo import compute_geodesic_f\n",
    "from lapy import Heat\n",
    "\n",
    "tria = T.boundary_tria()\n",
    "bvert=np.unique(tria.t)\n",
    "\n",
    "# get heat diffusion\n",
    "u = Heat.diffusion(T,bvert, m=1)\n",
    "\n",
    "gu = compute_geodesic_f(T,u)\n",
    "\n",
    "cutting = ['x<0.5']\n",
    "#plot_tet_mesh(T,vfunc=gu,plot_edges=None,plot_levels=True,cutting=cutting,edge_color='rgb(50,50,50)',html_output=False,flatshading=True)\n"
   ]
  }
 ],
 "metadata": {
  "kernelspec": {
   "display_name": "Python 3",
   "language": "python",
   "name": "python3"
  },
  "language_info": {
   "codemirror_mode": {
    "name": "ipython",
    "version": 3
   },
   "file_extension": ".py",
   "mimetype": "text/x-python",
   "name": "python",
   "nbconvert_exporter": "python",
   "pygments_lexer": "ipython3",
   "version": "3.7.3"
  }
 },
 "nbformat": 4,
 "nbformat_minor": 2
}
