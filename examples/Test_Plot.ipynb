{
 "cells": [
  {
   "cell_type": "code",
   "execution_count": null,
   "metadata": {},
   "outputs": [],
   "source": [
    "from importlib import reload\n",
    "import lapy\n",
    "from lapy import Solver, Plot, TriaIO, TetIO, FuncIO\n",
    "reload(Plot)"
   ]
  },
  {
   "cell_type": "code",
   "execution_count": null,
   "metadata": {},
   "outputs": [],
   "source": [
    "tria = TriaIO.import_vtk(\"../data/cubeTria.vtk\")\n",
    "fem = Solver(tria)\n",
    "evals, evecs = fem.eigs(k=3)\n",
    "evDict = dict()\n",
    "evDict['Refine'] = 0\n",
    "evDict['Degree'] = 1\n",
    "evDict['Dimension'] = 2\n",
    "evDict['Elements'] = len(tria.t)\n",
    "evDict['DoF'] = len(tria.v)\n",
    "evDict['NumEW'] = 3\n",
    "evDict['Eigenvalues'] = evals\n",
    "evDict['Eigenvectors'] = evecs\n",
    "FuncIO.export_ev(\"../data/cubeTria.ev\", evDict)"
   ]
  },
  {
   "cell_type": "code",
   "execution_count": null,
   "metadata": {},
   "outputs": [],
   "source": [
    "Plot.plot_tria_mesh(tria, vfunc=evecs[:,1], xrange=None, yrange=None, zrange=None, showcaxis=False, caxis=None)"
   ]
  },
  {
   "cell_type": "code",
   "execution_count": null,
   "metadata": {},
   "outputs": [],
   "source": [
    "Plot.plot_tria_mesh(tria, vfunc=evecs[:,1], xrange=[-2, 2], yrange=[-2, 2], zrange=[-1, 1], showcaxis=True, caxis=[-0.3, 0.5])"
   ]
  },
  {
   "cell_type": "code",
   "execution_count": null,
   "metadata": {},
   "outputs": [],
   "source": [
    "tetra = TetIO.import_vtk(\"../data/cubeTetra.vtk\")\n",
    "fem = Solver(tetra)\n",
    "evals, evecs = fem.eigs(k=3)\n",
    "evDict = dict()\n",
    "evDict['Refine'] = 0\n",
    "evDict['Degree'] = 1\n",
    "evDict['Dimension'] = 2\n",
    "evDict['Elements'] = len(tetra.t)\n",
    "evDict['DoF'] = len(tetra.v)\n",
    "evDict['NumEW'] = 3\n",
    "evDict['Eigenvalues'] = evals\n",
    "evDict['Eigenvectors'] = evecs\n",
    "FuncIO.export_ev(\"../data/cubeTetra.ev\", evDict)"
   ]
  },
  {
   "cell_type": "code",
   "execution_count": null,
   "metadata": {},
   "outputs": [],
   "source": [
    "Plot.plot_tet_mesh(tetra, vfunc=evecs[:,1], xrange=None, yrange=None, zrange=None, showcaxis=False, caxis=None)"
   ]
  },
  {
   "cell_type": "code",
   "execution_count": null,
   "metadata": {},
   "outputs": [],
   "source": [
    "Plot.plot_tet_mesh(tetra, cutting=('f>0'), vfunc=evecs[:,1], xrange=[-2, 2], yrange=[-2, 2], zrange=[-1, 1], showcaxis=True, caxis=[-0.3, 0.5])"
   ]
  }
 ],
 "metadata": {
  "kernelspec": {
   "display_name": "Python 3",
   "language": "python",
   "name": "python3"
  },
  "language_info": {
   "codemirror_mode": {
    "name": "ipython",
    "version": 3
   },
   "file_extension": ".py",
   "mimetype": "text/x-python",
   "name": "python",
   "nbconvert_exporter": "python",
   "pygments_lexer": "ipython3",
   "version": "3.7.3"
  }
 },
 "nbformat": 4,
 "nbformat_minor": 4
}
